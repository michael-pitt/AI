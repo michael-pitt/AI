{
 "cells": [
  {
   "cell_type": "code",
   "execution_count": 20,
   "metadata": {},
   "outputs": [
    {
     "name": "stdout",
     "output_type": "stream",
     "text": [
      "Availability of CUDA: False\n"
     ]
    }
   ],
   "source": [
    "import pandas as pd\n",
    "import numpy as np\n",
    "import matplotlib.pyplot as plt\n",
    "import torch, time\n",
    "from torch.utils.data import Dataset, DataLoader, TensorDataset\n",
    "from torch import nn, optim\n",
    "\n",
    "\n",
    "#Set location of the torch tensor\n",
    "use_cuda = torch.cuda.is_available()\n",
    "print('Availability of GPU:',use_cuda)\n",
    "if use_cuda: torch_ft = torch.cuda.FloatTensor\n",
    "else: torch_ft = torch.FloatTensor"
   ]
  },
  {
   "cell_type": "code",
   "execution_count": null,
   "metadata": {},
   "outputs": [],
   "source": [
    "#download the data\n",
    "!wget http://opendata.cern.ch/record/328/files/atlas-higgs-challenge-2014-v2.csv.gz\n",
    "!gunzip atlas-higgs-challenge-2014-v2.csv.gz"
   ]
  },
  {
   "cell_type": "code",
   "execution_count": 3,
   "metadata": {},
   "outputs": [],
   "source": [
    "#Read the data (the input file contains ~820k different events)\n",
    "df = pd.read_csv('atlas-higgs-challenge-2014-v2.csv')"
   ]
  },
  {
   "cell_type": "code",
   "execution_count": 4,
   "metadata": {},
   "outputs": [],
   "source": [
    "#remove unnecessary variables\n",
    "df = df.drop('EventId',axis=1).drop('Weight',axis=1).drop('KaggleSet',axis=1).drop('KaggleWeight',axis=1)"
   ]
  },
  {
   "cell_type": "markdown",
   "metadata": {},
   "source": [
    "Define training, validation and test sets, at the beginning use small dataset for model selection"
   ]
  },
  {
   "cell_type": "code",
   "execution_count": 46,
   "metadata": {
    "scrolled": true
   },
   "outputs": [],
   "source": [
    "training_df = df[:500000]\n",
    "valid_df = df[500000:650000]\n",
    "test_df = df[650000:]\n",
    "\n",
    "#training_df = df[:5000]\n",
    "#valid_df = df[5000:6500]\n",
    "\n"
   ]
  },
  {
   "cell_type": "markdown",
   "metadata": {},
   "source": [
    "## Creating a DataLoader\n",
    "\n",
    "In exercise 1 we used [fastai.tabular](https://docs.fast.ai/tabular.data.html) module:\n",
    "```python\n",
    "from fastai.tabular import TabularDataBunch\n",
    "data = TabularDataBunch.from_df(path, df:DataFrame, dep_var:str, valid_idx:Collection[int], \n",
    "                         procs:Optional[Collection[TabularProc]]=None, cat_names:OptStrList=None, \n",
    "                         cont_names:OptStrList=None, classes:Collection[T_co]=None, test_df=None, \n",
    "                         bs:int=64, val_bs:int=None, num_workers:int=4, \n",
    "                         dl_tfms:Optional[Collection[Callable]]=None, device:device=None, \n",
    "                         collate_fn:Callable='data_collate', no_check:bool=False) → DataBunch\n",
    "```\n",
    "Today we will write our own function to generate mini-batches. It is done in two steps:\n",
    "- creating a DataSet\n",
    "- creating a DataLoader"
   ]
  },
  {
   "cell_type": "code",
   "execution_count": 57,
   "metadata": {},
   "outputs": [],
   "source": [
    "dep_var = 'Label'\n",
    "batch_size = len(training_df)\n",
    "\n",
    "#convert pandas dataframe to torch tensor\n",
    "train_target = torch_ft(training_df[dep_var].replace({'s':1,'b':0}).values.astype(np.float32))\n",
    "train_dataset = torch_ft(training_df.drop(dep_var, axis = 1).values.astype(np.float32)) \n",
    "\n",
    "#use torch tensor as input to mini-batch generator\n",
    "train_dataset = TensorDataset(train_dataset, train_target) \n",
    "train_generator = DataLoader(dataset = train_dataset, batch_size = batch_size, shuffle = True)\n",
    "\n",
    "#repeat for the validation set, here use full batch for evaluation\n",
    "valid_target = torch_ft(valid_df[dep_var].replace({'s':1,'b':0}).values.astype(np.float32))\n",
    "valid_dataset = torch_ft(valid_df.drop(dep_var, axis = 1).values.astype(np.float32)) \n",
    "\n",
    "valid_dataset = TensorDataset(valid_dataset, valid_target) \n",
    "valid_generator = DataLoader(dataset = valid_dataset, batch_size = len(valid_df), shuffle = True)\n",
    "\n"
   ]
  },
  {
   "cell_type": "markdown",
   "metadata": {},
   "source": [
    "## Learner (train function)\n",
    "\n",
    "In ex. 1 we used `Learner()` from [basic_train](https://docs.fast.ai/basic_train.html#Learner) library\n",
    "```python \n",
    "learn = Learner(data, net, loss_func = nn.CrossEntropyLoss())\n",
    "```\n",
    "Here we will write a Learner with the `fit` function"
   ]
  },
  {
   "cell_type": "code",
   "execution_count": 64,
   "metadata": {},
   "outputs": [],
   "source": [
    "class Learner():\n",
    "    def __init__(self, data_loader, model, optimizer, criterion, valid_loader = None):\n",
    "        \n",
    "        self.data_loader = data_loader\n",
    "        self.model = model\n",
    "        self.optimizer = optimizer\n",
    "        self.criterion = criterion\n",
    "        self.valid_loader = valid_loader\n",
    "        if torch.cuda.is_available() and not next(model.parameters()).is_cuda:\n",
    "            print('copy the model to GPU')\n",
    "            model.to(torch.device(\"cuda\"))\n",
    "            \n",
    "\n",
    "    def fit(self, epochs = 1, cache={'loss':[]}):\n",
    "        \n",
    "        tic = time.time()\n",
    "        \n",
    "        # Iteration over the epochs\n",
    "        for epoch in range(epochs):\n",
    "        \n",
    "            #Loop over the mini-batches\n",
    "            for i, (batch_input, batch_target) in enumerate(self.data_loader):\n",
    "\n",
    "                #evaluate the model, and compute the gradients\n",
    "                batch_output = self.model(batch_input)\n",
    "                loss=self.criterion(batch_output, batch_target)\n",
    "                self.optimizer.zero_grad()\n",
    "                loss.backward()\n",
    "                self.optimizer.step()\n",
    "\n",
    "            cache['loss'].append(loss.item())\n",
    "\n",
    "            #evaluate validation loss:\n",
    "            if self.valid_loader:\n",
    "                with torch.no_grad():\n",
    "                    valid_input, valid_target = next(iter(self.valid_loader))\n",
    "                    valid_output = self.model(valid_input)\n",
    "                    vloss = criterion(valid_output, valid_target)\n",
    "                    cache['val_loss'].append(vloss.item())\n",
    "\n",
    "                printProgressBar(epoch, epochs, [loss.item(),vloss.item()])\n",
    "            else: printProgressBar(epoch, epochs, [loss.item()])\n",
    "        toc = time.time()\n",
    "        print('total time: %2.2f sec' %(toc-tic))\n",
    "        return cache\n",
    "\n",
    "\n",
    "def printProgressBar (iteration, total, losses = [], decimals = 1, length = 50):\n",
    "    total = total - 1 #since usually we start from 0 till n-1\n",
    "    percent = (\"{0:.\" + str(decimals) + \"f}\").format(100 * (iteration / float(total)))\n",
    "    filledLength = int(length * iteration // total)\n",
    "    bar = '#' * filledLength + '-' * (length - filledLength)\n",
    "    if len(losses)==1:\n",
    "        print('\\rprogress |%s| %s%% loss - %s' % (bar, percent, str(losses[0])), end = '\\r')\n",
    "    else:\n",
    "        print('\\rprogress |%s| %s%% loss - %2.5f | validation - %2.5f' % \n",
    "              (bar, percent, float(losses[0]), float(losses[1])), end = '\\r')\n",
    "    # Print New Line on Complete\n",
    "    if iteration == total: \n",
    "        print()\n",
    "        \n",
    "def CreateCash(model):\n",
    "    cache={}\n",
    "    for c in (['loss']+['val_loss']+[*model.state_dict().keys()]):\n",
    "        cache[c]=[]\n",
    "    return cache"
   ]
  },
  {
   "cell_type": "markdown",
   "metadata": {},
   "source": [
    "## Building a model\n",
    "\n",
    "Let's construct a simple NN, for the propose we will use 4-Layer NN with H = [100,50,10]\n",
    "![4-Layer NN](images/4L_NN.png)"
   ]
  },
  {
   "cell_type": "code",
   "execution_count": 65,
   "metadata": {},
   "outputs": [],
   "source": [
    "input_dim = 30                # dimentions of the input layer\n",
    "H = [100, 50, 10]             # dimentions of the hidden layers\n",
    "\n",
    "class Net(nn.Module):\n",
    "    def __init__(self):\n",
    "        super().__init__()\n",
    "        \n",
    "        self.layer1 = nn.Linear(input_dim,H[0])\n",
    "        self.layer2 = nn.Linear(H[0],H[1])\n",
    "        self.layer3 = nn.Linear(H[1],H[2])\n",
    "        self.layer4 = nn.Linear(H[2],1)\n",
    "        self.activation = nn.ReLU()\n",
    "        self.sigmoid = nn.Sigmoid()\n",
    "        \n",
    "        \n",
    "    def forward(self, x):\n",
    "        #note: we dont use categories, but we need to set it up in the model\n",
    "        out  = self.layer1(x)\n",
    "        out  = self.activation(out)\n",
    "        out  = self.layer2(out)\n",
    "        out  = self.activation(out)\n",
    "        out  = self.layer3(out)\n",
    "        out  = self.activation(out)\n",
    "        out  = self.layer4(out)\n",
    "        out  = self.sigmoid(out)\n",
    "        \n",
    "        return out.view(-1)"
   ]
  },
  {
   "cell_type": "markdown",
   "metadata": {},
   "source": [
    "# Training the model\n",
    "\n",
    "to run the train function we need to define the loss and optimizer"
   ]
  },
  {
   "cell_type": "code",
   "execution_count": 66,
   "metadata": {},
   "outputs": [],
   "source": [
    "net = Net()\n",
    "cache = CreateCash(net)\n",
    "criterion = getattr(nn.functional, 'binary_cross_entropy') #advanced user would like to try binary_cross_entropy_with_logits\n",
    "optimizer = optim.SGD(net.parameters(), lr = 1e-3)\n",
    "learn = Learner(train_generator, net, optimizer, criterion, valid_loader = valid_generator)  "
   ]
  },
  {
   "cell_type": "markdown",
   "metadata": {},
   "source": [
    "All set!! we can start to train our model! Instead of running:\n",
    "```python \n",
    "learn.fit(epochs = 2, lr = 5e-3)\n",
    "```\n",
    "we will run our `Learner.fit`"
   ]
  },
  {
   "cell_type": "code",
   "execution_count": null,
   "metadata": {},
   "outputs": [
    {
     "name": "stdout",
     "output_type": "stream",
     "text": [
      "progress |#####---------------------------------------------| 11.1% loss - 14.81277 | validation - 14.66815\r"
     ]
    }
   ],
   "source": [
    "cache = learn.fit(10, cache)\n",
    "plt.plot(cache['loss'],label='training loss')\n",
    "plt.plot(cache['val_loss'],label='validation loss')\n",
    "plt.legend(); plt.show() "
   ]
  },
  {
   "cell_type": "code",
   "execution_count": 56,
   "metadata": {},
   "outputs": [
    {
     "data": {
      "image/png": "[encoded data removed]",
      "text/plain": [
       "<Figure size 432x432 with 1 Axes>"
      ]
     },
     "metadata": {
      "needs_background": "light"
     },
     "output_type": "display_data"
    }
   ],
   "source": [
    "with torch.no_grad():\n",
    "    inputs, y = next(iter(valid_generator))\n",
    "    preds = net(inputs)\n",
    "    \n",
    "preds = preds.data.numpy()\n",
    "preds_sig = preds[y.numpy()==0]\n",
    "preds_bkg = preds[y.numpy()==1]\n",
    "\n",
    "bins = np.linspace(0,1,30)\n",
    "\n",
    "fig,ax = plt.subplots(figsize=(6,6))\n",
    "\n",
    "ax.hist(preds_bkg,bins=bins,density=True,label='background')\n",
    "ax.hist(preds_sig,bins=bins,density=True,histtype='step',linewidth=3,label='signal')\n",
    "plt.legend()\n",
    "plt.show()"
   ]
  },
  {
   "cell_type": "code",
   "execution_count": null,
   "metadata": {},
   "outputs": [],
   "source": [
    "X[1].shape"
   ]
  },
  {
   "cell_type": "code",
   "execution_count": null,
   "metadata": {},
   "outputs": [],
   "source": [
    "learn.lr_find()"
   ]
  },
  {
   "cell_type": "code",
   "execution_count": null,
   "metadata": {},
   "outputs": [],
   "source": [
    "!nvidia-smi"
   ]
  },
  {
   "cell_type": "code",
   "execution_count": null,
   "metadata": {},
   "outputs": [],
   "source": []
  }
 ],
 "metadata": {
  "kernelspec": {
   "display_name": "Python 3",
   "language": "python",
   "name": "python3"
  },
  "language_info": {
   "codemirror_mode": {
    "name": "ipython",
    "version": 3
   },
   "file_extension": ".py",
   "mimetype": "text/x-python",
   "name": "python",
   "nbconvert_exporter": "python",
   "pygments_lexer": "ipython3",
   "version": "3.7.1"
  }
 },
 "nbformat": 4,
 "nbformat_minor": 2
}
