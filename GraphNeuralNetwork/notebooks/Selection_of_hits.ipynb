{
 "cells": [
  {
   "cell_type": "code",
   "execution_count": 1,
   "metadata": {},
   "outputs": [],
   "source": [
    "import matplotlib.pyplot as plt\n",
    "import numpy as np\n",
    "import pandas as pd"
   ]
  },
  {
   "cell_type": "markdown",
   "metadata": {},
   "source": [
    "Load the data"
   ]
  },
  {
   "cell_type": "code",
   "execution_count": 2,
   "metadata": {},
   "outputs": [],
   "source": [
    "from trackml.dataset import load_dataset\n",
    "PATH_TO_DATA = \"/home/data/train_sample_single\""
   ]
  },
  {
   "cell_type": "code",
   "execution_count": 3,
   "metadata": {},
   "outputs": [],
   "source": [
    "data = load_dataset(PATH_TO_DATA, parts=['hits', 'cells', 'truth', 'particles'])\n",
    "event_id, hits, cells, truth, particles = next(data)"
   ]
  },
  {
   "cell_type": "code",
   "execution_count": 4,
   "metadata": {},
   "outputs": [],
   "source": [
    "old_keys = truth.keys()\n",
    "new_truth = truth.merge(hits[['hit_id','volume_id']])\n",
    "mask = ((new_truth['volume_id']==8) | (new_truth['volume_id']==13) | (new_truth['volume_id']==18))\n",
    "new_truth = new_truth.loc[mask][old_keys]"
   ]
  },
  {
   "cell_type": "markdown",
   "metadata": {},
   "source": [
    "<a id='merging'></a>\n",
    "\n",
    "## Hit merging:\n",
    "\n",
    "\n",
    "Check for the criteria to merge hits (some of the hits in the layer 1 will originating from the same particle, therefore we will assign same label (`track_id`) to those hits\n",
    "\n",
    "Lets obtain the distribtion to decide on the cut criteria"
   ]
  },
  {
   "cell_type": "code",
   "execution_count": 5,
   "metadata": {},
   "outputs": [],
   "source": [
    "def getLayer(r, z, volume_id, layer_id):   \n",
    "    if volume_id==8 and layer_id==2:\n",
    "        return 1\n",
    "    elif volume_id==9:\n",
    "        return 2\n",
    "    elif volume_id==7:\n",
    "        return 2\n",
    "    else: return -1"
   ]
  },
  {
   "cell_type": "code",
   "execution_count": 6,
   "metadata": {},
   "outputs": [],
   "source": [
    "hits['r'] = np.sqrt(hits['x']**2 + hits['y']**2)\n",
    "hits['phi'] = np.arctan2(hits['y'],hits['x'])\n",
    "hits['theta'] = np.arctan2(hits['r'],hits['z'])\n",
    "hits['eta'] = -np.log(np.tan(0.5*hits['theta']))\n",
    "hits['evtid'] = event_id\n",
    "hits['layer'] = hits.apply(lambda x: getLayer(x['r'],x['z'],x['volume_id'],x['layer_id']), axis=1)\n",
    "keys = ['hit_id','z','phi','r','layer']\n",
    "hits = (hits[keys].merge(truth[['hit_id','particle_id']], on='hit_id'))"
   ]
  },
  {
   "cell_type": "markdown",
   "metadata": {},
   "source": [
    "Sudy the hits from the first layer only (separate barrel with end-caps):\n",
    "\n",
    "Let's order the hits in increasing order in $\\phi$, and look on a neighbour hits.\n",
    "By construction, these two hits are close in $\\phi$, the question which criteria one should apply to verify that these two hits are comming form the same track:"
   ]
  },
  {
   "cell_type": "code",
   "execution_count": 7,
   "metadata": {},
   "outputs": [],
   "source": [
    "filter_hits = hits.loc[hits['layer']==1]"
   ]
  },
  {
   "cell_type": "code",
   "execution_count": 8,
   "metadata": {},
   "outputs": [],
   "source": [
    "filtered_sorted_hits = filter_hits.sort_values(by=['phi'])\n",
    "n = filtered_sorted_hits.shape[0]\n",
    "dphi = []\n",
    "dz = []\n",
    "dr = []\n",
    "is_true = []\n",
    "for i in range(n-1):\n",
    "    is_true.append( filtered_sorted_hits.particle_id.values[i] == filtered_sorted_hits.particle_id.values[i+1]  )\n",
    "    dphi.append( filtered_sorted_hits.phi.values[i+1] - filtered_sorted_hits.phi.values[i]  ) \n",
    "    dz.append( filtered_sorted_hits.z.values[i+1] - filtered_sorted_hits.z.values[i]  ) \n",
    "    dr.append( filtered_sorted_hits.r.values[i+1] - filtered_sorted_hits.r.values[i]  ) \n",
    "dphi = np.array(dphi)\n",
    "dz = np.array(dz)\n",
    "dr = np.array(dr)\n",
    "is_true = np.array(is_true)"
   ]
  },
  {
   "cell_type": "code",
   "execution_count": 9,
   "metadata": {},
   "outputs": [
    {
     "data": {
      "image/png": "[encoded data removed]",
      "text/plain": [
       "<matplotlib.figure.Figure at 0x7fba68e3d780>"
      ]
     },
     "metadata": {},
     "output_type": "display_data"
    }
   ],
   "source": [
    "fig = plt.figure(figsize=(15, 5))\n",
    "ax = fig.add_subplot(1, 3, 1)\n",
    "ax.hist(dphi[(is_true==False) ],100,(-0.001,0.006),label='false')\n",
    "ax.hist(dphi[(is_true==True) ],100,(-0.001,0.006),label='true',log=True)\n",
    "ax.set_xlabel(r'$\\Delta\\phi [rad]$',fontsize=20)\n",
    "\n",
    "ax = fig.add_subplot(1, 3, 2)\n",
    "ax.hist(dr[(is_true==False) & (dphi<0.002) ],100,(-1,1),label='false')\n",
    "ax.hist(dr[(is_true==True) & (dphi<0.002) ],100,(-1,1),label='true', log=True)\n",
    "ax.set_xlabel(r'$\\Delta R [mm]$',fontsize=20)\n",
    "\n",
    "ax = fig.add_subplot(1, 3, 3)\n",
    "ax.hist(dz[(is_true==False) & (np.fabs(dr)>0.025) & (dphi<0.002)],100,(-20,20),label='false')\n",
    "ax.hist(dz[(is_true==True) & (np.fabs(dr)>0.025) & (dphi<0.002)],100,(-20,20),label='true',alpha=0.4)\n",
    "ax.set_xlabel(r'$\\Delta z [mm]$',fontsize=20)\n",
    "\n",
    "plt.legend()\n",
    "plt.savefig('Merge_hits_Barrel.pdf')\n",
    "plt.show()   \n"
   ]
  },
  {
   "cell_type": "code",
   "execution_count": 10,
   "metadata": {},
   "outputs": [],
   "source": [
    "filter_hits = hits.loc[hits['layer']==2]"
   ]
  },
  {
   "cell_type": "code",
   "execution_count": 11,
   "metadata": {},
   "outputs": [],
   "source": [
    "filtered_sorted_hits = filter_hits.sort_values(by=['phi'])\n",
    "n = filtered_sorted_hits.shape[0]\n",
    "dphi = []\n",
    "dz = []\n",
    "dr = []\n",
    "is_true = []\n",
    "for i in range(n-1):\n",
    "    is_true.append( filtered_sorted_hits.particle_id.values[i] == filtered_sorted_hits.particle_id.values[i+1]  )\n",
    "    dphi.append( filtered_sorted_hits.phi.values[i+1] - filtered_sorted_hits.phi.values[i]  ) \n",
    "    dz.append( filtered_sorted_hits.z.values[i+1] - filtered_sorted_hits.z.values[i]  ) \n",
    "    dr.append( filtered_sorted_hits.r.values[i+1] - filtered_sorted_hits.r.values[i]  ) \n",
    "dphi = np.array(dphi)\n",
    "dz = np.array(dz)\n",
    "dr = np.array(dr)\n",
    "is_true = np.array(is_true)"
   ]
  },
  {
   "cell_type": "code",
   "execution_count": 12,
   "metadata": {},
   "outputs": [
    {
     "data": {
      "image/png": "[encoded data removed]",
      "text/plain": [
       "<matplotlib.figure.Figure at 0x7fba4a64a898>"
      ]
     },
     "metadata": {},
     "output_type": "display_data"
    }
   ],
   "source": [
    "fig = plt.figure(figsize=(15, 5))\n",
    "ax = fig.add_subplot(1, 3, 1)\n",
    "ax.hist(dphi[(is_true==False) ],100,(-0.001,0.006),label='false')\n",
    "ax.hist(dphi[(is_true==True) ],100,(-0.001,0.006),label='true',log=True)\n",
    "ax.set_xlabel(r'$\\Delta\\phi [rad]$',fontsize=20)\n",
    "\n",
    "ax = fig.add_subplot(1, 3, 2)\n",
    "ax.hist(dz[(is_true==False) & (dphi<0.001)],100,(-1,1),label='false')\n",
    "ax.hist(dz[(is_true==True) & (dphi<0.001)],100,(-1,1),label='true', log=True)\n",
    "ax.set_xlabel(r'$\\Delta z [mm]$',fontsize=20)\n",
    "\n",
    "ax = fig.add_subplot(1, 3, 3)\n",
    "ax.hist(dr[(is_true==False) & (dphi<0.001) & (np.fabs(dz)>0.25) ],100,(-5,5),label='false')\n",
    "ax.hist(dr[(is_true==True) & (dphi<0.001) & (np.fabs(dz)>0.25) ],100,(-5,5),label='true',alpha=0.6, log=True)\n",
    "ax.set_xlabel(r'$\\Delta R [mm]$',fontsize=20)\n",
    "\n",
    "\n",
    "plt.legend()\n",
    "plt.savefig('Merge_hits_EC.pdf')\n",
    "plt.show()   \n"
   ]
  },
  {
   "cell_type": "code",
   "execution_count": null,
   "metadata": {},
   "outputs": [],
   "source": []
  }
 ],
 "metadata": {
  "kernelspec": {
   "display_name": "Python 3",
   "language": "python",
   "name": "python3"
  },
  "language_info": {
   "codemirror_mode": {
    "name": "ipython",
    "version": 3
   },
   "file_extension": ".py",
   "mimetype": "text/x-python",
   "name": "python",
   "nbconvert_exporter": "python",
   "pygments_lexer": "ipython3",
   "version": "3.6.4"
  }
 },
 "nbformat": 4,
 "nbformat_minor": 2
}
