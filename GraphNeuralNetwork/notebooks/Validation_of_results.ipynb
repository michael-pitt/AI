{
 "cells": [
  {
   "cell_type": "code",
   "execution_count": 8,
   "metadata": {},
   "outputs": [],
   "source": [
    "import matplotlib.pyplot as plt\n",
    "import numpy as np\n",
    "import pandas as pd\n",
    "from torch import nn, optim\n",
    "import time\n",
    "from torch.utils.data import Dataset, DataLoader\n",
    "import torch\n",
    "from preprocess import preprocess\n",
    "from preprocess import weights_to_labels\n",
    "from GraphBuilder.model_loader import model_loader\n",
    "from GraphBuilder.model.model import GNNmodel as myModel\n",
    "from trackml.score import score_event"
   ]
  },
  {
   "cell_type": "markdown",
   "metadata": {},
   "source": [
    "# Get results\n",
    "\n",
    "This notebook used to obtain results from the GNN model and check the performance\n",
    "\n",
    "This notebook is working from the docker"
   ]
  },
  {
   "cell_type": "code",
   "execution_count": 9,
   "metadata": {},
   "outputs": [],
   "source": [
    "from trackml.dataset import load_dataset\n",
    "PATH_TO_DATA = \"/home/data/train_sample\""
   ]
  },
  {
   "cell_type": "markdown",
   "metadata": {},
   "source": [
    "## input selection:\n",
    "\n",
    "Generate inputs from a single file:"
   ]
  },
  {
   "cell_type": "code",
   "execution_count": 10,
   "metadata": {},
   "outputs": [
    {
     "name": "stdout",
     "output_type": "stream",
     "text": [
      "load event 21100\n"
     ]
    }
   ],
   "source": [
    "data = load_dataset(PATH_TO_DATA, parts=['hits', 'cells', 'truth', 'particles'])\n",
    "event_id, hits, cells, truth, particles = next(data)\n",
    "print('load event',event_id)"
   ]
  },
  {
   "cell_type": "code",
   "execution_count": 11,
   "metadata": {},
   "outputs": [
    {
     "data": {
      "text/plain": [
       "Index(['hit_id', 'ch0', 'ch1', 'value'], dtype='object')"
      ]
     },
     "execution_count": 11,
     "metadata": {},
     "output_type": "execute_result"
    }
   ],
   "source": [
    "cells.keys()"
   ]
  },
  {
   "cell_type": "markdown",
   "metadata": {},
   "source": [
    "Filter the events if needed:"
   ]
  },
  {
   "cell_type": "code",
   "execution_count": null,
   "metadata": {},
   "outputs": [],
   "source": [
    "def getLayer(volume_id, layer_id):\n",
    "    if volume_id==8:\n",
    "        return layer_id//2\n",
    "    elif volume_id==13:\n",
    "        return layer_id//2 + 4\n",
    "    elif volume_id==17:\n",
    "        return layer_id//2 + 8\n",
    "    else:\n",
    "        return -1   "
   ]
  },
  {
   "cell_type": "code",
   "execution_count": null,
   "metadata": {
    "scrolled": false
   },
   "outputs": [],
   "source": [
    "keys = ['hit_id','x','y','z','particle_id','volume_id','layer_id']\n",
    "print('evaluate and store event',event_id,' with',hits.shape[0],'hits')\n",
    "    \n",
    "new_truth = truth.merge(hits[['hit_id','volume_id','layer_id']], on='hit_id').copy()\n",
    "\n",
    "hits['layer'] = hits.apply(lambda x: getLayer(x['volume_id'],x['layer_id']), axis=1)\n",
    "new_truth['layer'] = new_truth.apply(lambda x: getLayer(x['volume_id'],x['layer_id']), axis=1)\n",
    "\n",
    "#filter event - remove noise, use only barrel, keep hits associated to tracks with more than 10 hits\n",
    "new_hits = hits.merge(truth[['hit_id','particle_id']], on='hit_id').copy()\n",
    "group_hits = new_hits.groupby(by=['particle_id'])\n",
    "new_hits = group_hits.filter(lambda x: x['layer'].min() > 0)\n",
    "\n",
    "group_hits = new_truth.groupby(by=['particle_id'])\n",
    "new_truth = group_hits.filter(lambda x: x['layer'].min() > 0)\n",
    "\n",
    "print('remove tracks oursize the barrel: ',new_hits.shape[0])\n",
    "    \n",
    "    \n",
    "group_hits = new_hits.groupby(by=['particle_id'])\n",
    "track_idx = group_hits.indices\n",
    "new_hits = pd.concat([group_hits.get_group(pid).assign(nhits=len(idx)) for pid, idx in track_idx.items()])\n",
    "new_hits = new_hits.loc[(new_hits['nhits']>7)]\n",
    "\n",
    "group_hits = new_truth.groupby(by=['particle_id'])\n",
    "track_idx = group_hits.indices\n",
    "new_truth = pd.concat([group_hits.get_group(pid).assign(nhits=len(idx)) for pid, idx in track_idx.items()])\n",
    "new_truth = new_truth.loc[(new_truth['nhits']>7)]\n",
    "\n",
    "print('total hits in the file:' ,new_hits.shape[0], 'truth',new_truth.shape[0])"
   ]
  },
  {
   "cell_type": "code",
   "execution_count": null,
   "metadata": {},
   "outputs": [],
   "source": []
  },
  {
   "cell_type": "markdown",
   "metadata": {},
   "source": [
    "Run the preprocess code to obtain inputs and labels:"
   ]
  },
  {
   "cell_type": "code",
   "execution_count": null,
   "metadata": {},
   "outputs": [],
   "source": [
    "list_y, list_X, list_Is, list_hits_id, list_labels = preprocess(new_hits.copy(), np.array([-4.6,4.6]))\n",
    "y, X, Is, hits_id, dummy_labels  = list_y[0], list_X[0], list_Is[0], list_hits_id[0], list_labels[0]\n",
    "y = y.astype(np.float32)\n",
    "#Is = Is.values"
   ]
  },
  {
   "cell_type": "markdown",
   "metadata": {},
   "source": [
    "Evaluate event using the model:"
   ]
  },
  {
   "cell_type": "code",
   "execution_count": null,
   "metadata": {},
   "outputs": [],
   "source": [
    "graph_model = model_loader()\n",
    "graph_model.set_model(myModel(edge_dim = 8, hidden_dim=64))\n",
    "graph_model.load_weights('GraphBuilder/data/weights_gnn1.pt')"
   ]
  },
  {
   "cell_type": "code",
   "execution_count": null,
   "metadata": {},
   "outputs": [],
   "source": [
    "y_pred = graph_model.fit_predict(X, Is.values)"
   ]
  },
  {
   "cell_type": "markdown",
   "metadata": {},
   "source": [
    "## plot weights according to their labels:"
   ]
  },
  {
   "cell_type": "code",
   "execution_count": null,
   "metadata": {
    "scrolled": true
   },
   "outputs": [],
   "source": [
    "binning=dict(bins=50, range=(0,1), histtype='bar', log=True)\n",
    "plt.hist(y_pred[y<0.5], label='fake', **binning, alpha=0.7)\n",
    "plt.hist(y_pred[y>0.5], label='true', **binning, alpha=0.7)\n",
    "plt.xlabel('Model output')\n",
    "plt.legend(loc=0)\n",
    "plt.show()"
   ]
  },
  {
   "cell_type": "markdown",
   "metadata": {},
   "source": [
    "## Weight propogation through the event:"
   ]
  },
  {
   "cell_type": "code",
   "execution_count": null,
   "metadata": {
    "scrolled": true
   },
   "outputs": [],
   "source": [
    "labels = weights_to_labels(X, Is, y_pred, dummy_labels, hits_id, threshold = 0.8)"
   ]
  },
  {
   "cell_type": "code",
   "execution_count": null,
   "metadata": {},
   "outputs": [],
   "source": [
    "sub = pd.DataFrame(data=np.column_stack((hits_id, labels)),\n",
    "                   columns=[\"hit_id\", \"track_id\"]).astype(int)\n",
    "sub_truth = pd.DataFrame(data=np.column_stack((new_hits.hit_id.values,new_hits.particle_id.values)),\n",
    "                   columns=[\"hit_id\", \"track_id\"]).astype(int)\n",
    "\n",
    "sub['event_id'] = event_id"
   ]
  },
  {
   "cell_type": "markdown",
   "metadata": {},
   "source": [
    "Evaluate accuracy of the predictions:"
   ]
  },
  {
   "cell_type": "code",
   "execution_count": null,
   "metadata": {},
   "outputs": [],
   "source": [
    "score = score_event(new_truth, sub)\n",
    "print('accuracy score = ',score)"
   ]
  },
  {
   "cell_type": "code",
   "execution_count": null,
   "metadata": {},
   "outputs": [],
   "source": [
    "X.shape"
   ]
  },
  {
   "cell_type": "code",
   "execution_count": null,
   "metadata": {},
   "outputs": [],
   "source": [
    "y.nonzero()"
   ]
  },
  {
   "cell_type": "code",
   "execution_count": null,
   "metadata": {},
   "outputs": [],
   "source": []
  },
  {
   "cell_type": "code",
   "execution_count": null,
   "metadata": {},
   "outputs": [],
   "source": []
  },
  {
   "cell_type": "code",
   "execution_count": null,
   "metadata": {},
   "outputs": [],
   "source": []
  },
  {
   "cell_type": "code",
   "execution_count": null,
   "metadata": {},
   "outputs": [],
   "source": []
  },
  {
   "cell_type": "code",
   "execution_count": null,
   "metadata": {},
   "outputs": [],
   "source": []
  },
  {
   "cell_type": "code",
   "execution_count": 1,
   "metadata": {},
   "outputs": [],
   "source": [
    "import pandas as pd\n",
    "import numpy as np\n",
    "edges = pd.DataFrame(data=np.column_stack(([0, 0, 1, 2, 3, 3, 4, 4], [3, 4, 4, 4, 5, 6, 6, 7],[1,0,1,1,1,0,0,1])),\n",
    "              columns=[\"index_1\", \"index_2\", \"weight\"])\n",
    "X = np.random.rand(8,5)\n",
    "hit_id = np.arange(1,9).astype(np.int32)\n",
    "labels_test = np.arange(1,9)\n",
    "Is = edges[[\"index_1\", \"index_2\"]]\n",
    "y_pred = np.array([0.9,0.7,0.9,0.8,0.7,0.55,0.2,0.6])"
   ]
  },
  {
   "cell_type": "code",
   "execution_count": 2,
   "metadata": {},
   "outputs": [],
   "source": [
    "from preprocess import weights_to_labels\n",
    "labels_test = weights_to_labels(X, Is, y_pred, labels_test, hit_id, threshold = 0.6)"
   ]
  },
  {
   "cell_type": "code",
   "execution_count": 3,
   "metadata": {},
   "outputs": [
    {
     "data": {
      "text/plain": [
       "array([1, 2, 2, 1, 1, 1, 7, 2])"
      ]
     },
     "execution_count": 3,
     "metadata": {},
     "output_type": "execute_result"
    }
   ],
   "source": [
    "labels_test"
   ]
  },
  {
   "cell_type": "code",
   "execution_count": null,
   "metadata": {},
   "outputs": [],
   "source": [
    "Is"
   ]
  },
  {
   "cell_type": "code",
   "execution_count": 4,
   "metadata": {},
   "outputs": [
    {
     "data": {
      "text/html": [
       "<div>\n",
       "<style scoped>\n",
       "    .dataframe tbody tr th:only-of-type {\n",
       "        vertical-align: middle;\n",
       "    }\n",
       "\n",
       "    .dataframe tbody tr th {\n",
       "        vertical-align: top;\n",
       "    }\n",
       "\n",
       "    .dataframe thead th {\n",
       "        text-align: right;\n",
       "    }\n",
       "</style>\n",
       "<table border=\"1\" class=\"dataframe\">\n",
       "  <thead>\n",
       "    <tr style=\"text-align: right;\">\n",
       "      <th></th>\n",
       "      <th>index_1</th>\n",
       "      <th>index_2</th>\n",
       "      <th>weight</th>\n",
       "    </tr>\n",
       "  </thead>\n",
       "  <tbody>\n",
       "    <tr>\n",
       "      <th>0</th>\n",
       "      <td>0</td>\n",
       "      <td>3</td>\n",
       "      <td>1</td>\n",
       "    </tr>\n",
       "    <tr>\n",
       "      <th>1</th>\n",
       "      <td>0</td>\n",
       "      <td>4</td>\n",
       "      <td>0</td>\n",
       "    </tr>\n",
       "    <tr>\n",
       "      <th>2</th>\n",
       "      <td>1</td>\n",
       "      <td>4</td>\n",
       "      <td>1</td>\n",
       "    </tr>\n",
       "    <tr>\n",
       "      <th>3</th>\n",
       "      <td>2</td>\n",
       "      <td>4</td>\n",
       "      <td>1</td>\n",
       "    </tr>\n",
       "    <tr>\n",
       "      <th>4</th>\n",
       "      <td>3</td>\n",
       "      <td>5</td>\n",
       "      <td>1</td>\n",
       "    </tr>\n",
       "    <tr>\n",
       "      <th>5</th>\n",
       "      <td>3</td>\n",
       "      <td>6</td>\n",
       "      <td>0</td>\n",
       "    </tr>\n",
       "    <tr>\n",
       "      <th>6</th>\n",
       "      <td>4</td>\n",
       "      <td>6</td>\n",
       "      <td>0</td>\n",
       "    </tr>\n",
       "    <tr>\n",
       "      <th>7</th>\n",
       "      <td>4</td>\n",
       "      <td>7</td>\n",
       "      <td>1</td>\n",
       "    </tr>\n",
       "  </tbody>\n",
       "</table>\n",
       "</div>"
      ],
      "text/plain": [
       "   index_1  index_2  weight\n",
       "0        0        3       1\n",
       "1        0        4       0\n",
       "2        1        4       1\n",
       "3        2        4       1\n",
       "4        3        5       1\n",
       "5        3        6       0\n",
       "6        4        6       0\n",
       "7        4        7       1"
      ]
     },
     "execution_count": 4,
     "metadata": {},
     "output_type": "execute_result"
    }
   ],
   "source": [
    "edges"
   ]
  },
  {
   "cell_type": "code",
   "execution_count": 7,
   "metadata": {},
   "outputs": [
    {
     "data": {
      "text/html": [
       "<div>\n",
       "<style scoped>\n",
       "    .dataframe tbody tr th:only-of-type {\n",
       "        vertical-align: middle;\n",
       "    }\n",
       "\n",
       "    .dataframe tbody tr th {\n",
       "        vertical-align: top;\n",
       "    }\n",
       "\n",
       "    .dataframe thead th {\n",
       "        text-align: right;\n",
       "    }\n",
       "</style>\n",
       "<table border=\"1\" class=\"dataframe\">\n",
       "  <thead>\n",
       "    <tr style=\"text-align: right;\">\n",
       "      <th></th>\n",
       "      <th>index_1</th>\n",
       "      <th>index_2</th>\n",
       "      <th>weight</th>\n",
       "    </tr>\n",
       "  </thead>\n",
       "  <tbody>\n",
       "    <tr>\n",
       "      <th>4</th>\n",
       "      <td>3</td>\n",
       "      <td>5</td>\n",
       "      <td>1</td>\n",
       "    </tr>\n",
       "    <tr>\n",
       "      <th>4</th>\n",
       "      <td>3</td>\n",
       "      <td>5</td>\n",
       "      <td>1</td>\n",
       "    </tr>\n",
       "    <tr>\n",
       "      <th>5</th>\n",
       "      <td>3</td>\n",
       "      <td>6</td>\n",
       "      <td>0</td>\n",
       "    </tr>\n",
       "  </tbody>\n",
       "</table>\n",
       "</div>"
      ],
      "text/plain": [
       "   index_1  index_2  weight\n",
       "4        3        5       1\n",
       "4        3        5       1\n",
       "5        3        6       0"
      ]
     },
     "execution_count": 7,
     "metadata": {},
     "output_type": "execute_result"
    }
   ],
   "source": [
    "edges.loc[[4,4,5]]"
   ]
  },
  {
   "cell_type": "code",
   "execution_count": null,
   "metadata": {},
   "outputs": [],
   "source": []
  }
 ],
 "metadata": {
  "kernelspec": {
   "display_name": "Python 3",
   "language": "python",
   "name": "python3"
  },
  "language_info": {
   "codemirror_mode": {
    "name": "ipython",
    "version": 3
   },
   "file_extension": ".py",
   "mimetype": "text/x-python",
   "name": "python",
   "nbconvert_exporter": "python",
   "pygments_lexer": "ipython3",
   "version": "3.6.4"
  }
 },
 "nbformat": 4,
 "nbformat_minor": 2
}
