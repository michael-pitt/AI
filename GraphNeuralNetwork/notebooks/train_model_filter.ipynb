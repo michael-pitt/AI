{
 "cells": [
  {
   "cell_type": "code",
   "execution_count": 37,
   "metadata": {},
   "outputs": [],
   "source": [
    "import matplotlib.pyplot as plt\n",
    "import numpy as np\n",
    "import pandas as pd\n",
    "from torch import nn, optim\n",
    "import time\n",
    "from torch.utils.data import Dataset, DataLoader\n",
    "import torch\n",
    "#set output path for trained data:\n",
    "PATH = '/mnt/lustre/agrp/pitt/ML/trackML/sample_code_submission/GraphBuilder/data/'"
   ]
  },
  {
   "cell_type": "markdown",
   "metadata": {},
   "source": [
    "# trackML challenge \n",
    "\n",
    "This notebook used to train the model\n",
    "\n",
    "The inputs are loaded from `/scratch/pitt/trackML/train_graphs` folder, this can be changed\n",
    "\n",
    "If running on GPU, run the following cell:\n"
   ]
  },
  {
   "cell_type": "code",
   "execution_count": 4,
   "metadata": {},
   "outputs": [
    {
     "name": "stdout",
     "output_type": "stream",
     "text": [
      "Availability of CUDA: True\n",
      "Will work on device number 1 , named:  TITAN V\n",
      "device =  cuda:1\n"
     ]
    }
   ],
   "source": [
    "use_cuda = torch.cuda.is_available()\n",
    "print('Availability of CUDA:',use_cuda)\n",
    "if use_cuda: torch_ft = torch.cuda.FloatTensor\n",
    "else: torch_ft = torch.FloatTensor\n",
    "device = torch.device(\"cuda:1\" if use_cuda else \"cpu\")\n",
    "torch.cuda.set_device(1)\n",
    "idevice = torch.cuda.current_device()\n",
    "print('Will work on device number',idevice,', named: ',torch.cuda.get_device_name(idevice))\n",
    "torch.backends.cudnn.benchmark = True\n",
    "print('device = ',device)"
   ]
  },
  {
   "cell_type": "markdown",
   "metadata": {},
   "source": [
    "# Dataloader:\n",
    "\n",
    "dataloader reads files and construct inputs"
   ]
  },
  {
   "cell_type": "code",
   "execution_count": 5,
   "metadata": {},
   "outputs": [],
   "source": [
    "from collections import namedtuple\n",
    "Graph = namedtuple('Graph', ['X', 'Is', 'y'])\n",
    "\n",
    "def load_graph(filename):\n",
    "    #print('loading',filename)\n",
    "    with np.load(filename) as f:\n",
    "        return sparse_to_graph(**dict(f.items()))\n",
    "def sparse_to_graph(X, Is, y):\n",
    "    return Graph(X, Is, y)\n",
    "\n",
    "class trackDataLoader(Dataset):\n",
    "    def __init__(self, filenames, n_samples=None):\n",
    "        self.filenames = (\n",
    "            filenames[:n_samples] if n_samples is not None else filenames)\n",
    "\n",
    "    def __getitem__(self, index):\n",
    "        return load_graph(self.filenames[index])\n",
    "\n",
    "    def __len__(self):\n",
    "        return len(self.filenames)\n",
    "\n",
    "def collate_fn(graphs):\n",
    "\n",
    "    batch_size = len(graphs)\n",
    "    \n",
    "    if batch_size == 1:\n",
    "        g = graphs[0]\n",
    "        \n",
    "        batch_target = g.y\n",
    "        batch_inputs = [torch_ft(g.X), g.Is]\n",
    "        \n",
    "        return batch_inputs, batch_target\n",
    "    \n",
    "    #construct batches\n",
    "    batch_X=[]; batch_Is=[]; batch_target=[]\n",
    "    n_hits = 0\n",
    "    for i, g in enumerate(graphs):\n",
    "        batch_target.append(g.y)\n",
    "        batch_X.append(g.X)\n",
    "        batch_Is.append(g.Is + n_hits)\n",
    "        n_hits += g.X.shape[0]\n",
    "    batch_X = np.concatenate(batch_X)\n",
    "    batch_Is = np.concatenate(batch_Is)\n",
    "    batch_target = np.concatenate(batch_target)\n",
    "    \n",
    "    batch_inputs = [torch_ft(batch_X), batch_Is]\n",
    "    \n",
    "    return batch_inputs, batch_target\n"
   ]
  },
  {
   "cell_type": "markdown",
   "metadata": {},
   "source": [
    "Read files, in total we have 50 files. Keep a single file for validation, and the rest for the training:"
   ]
  },
  {
   "cell_type": "code",
   "execution_count": 38,
   "metadata": {},
   "outputs": [
    {
     "name": "stdout",
     "output_type": "stream",
     "text": [
      "available for training 176  for testing 40\n"
     ]
    }
   ],
   "source": [
    "from glob import glob\n",
    "train_files = glob('/scratch/pitt/trackML/graph_full_6var_250MeV_150mmz0_1eta/*')\n",
    "test_files, train_files = train_files[:40], train_files[40:]\n",
    "train_dataset = trackDataLoader(train_files) #use 1 file , n_samples = 1\n",
    "train_loader = DataLoader(train_dataset, collate_fn=collate_fn, num_workers = 0)\n",
    "test_dataset = trackDataLoader(test_files, 1) #test_file train_files\n",
    "test_loader = DataLoader(test_dataset, batch_size = len(test_files), collate_fn=collate_fn)\n",
    "print('available for training',len(train_files),' for testing',len(test_files))"
   ]
  },
  {
   "cell_type": "markdown",
   "metadata": {},
   "source": [
    "## Trainer"
   ]
  },
  {
   "cell_type": "code",
   "execution_count": 7,
   "metadata": {},
   "outputs": [],
   "source": [
    "def CreateCash(model):\n",
    "    cache={}\n",
    "    for c in (['loss']+['val_loss']+[*model.state_dict().keys()]):\n",
    "        cache[c]=[]\n",
    "    return cache\n",
    "\n",
    "def get_inputs(X, Is, device):\n",
    "\n",
    "    n_hits = X.shape[0]\n",
    "    n_edges = Is.shape[0]\n",
    "    edge_idx = np.arange(n_edges)\n",
    "    Ri = torch.sparse.FloatTensor(torch.LongTensor([Is[:,1],edge_idx]),\n",
    "                        torch.ones(n_edges),\n",
    "                        torch.Size([n_hits,n_edges]))\n",
    "    Ro = torch.sparse.FloatTensor(torch.LongTensor([Is[:,0],edge_idx]),\n",
    "                        torch.ones(n_edges),\n",
    "                        torch.Size([n_hits,n_edges]))\n",
    "    \n",
    "    if 'cuda'==device.type: return [X, Ro.to(device), Ri.to(device)]  \n",
    "    return [X, Ro, Ri]\n",
    "\n",
    "def get_batch_weights(batch_target, weighted, pretrain):\n",
    "    if(weighted):\n",
    "        frac_connected_edges = batch_target.sum()/batch_target.shape[0]\n",
    "        batch_weights_real = batch_target * (1.0 - frac_connected_edges)\n",
    "        batch_weights_fake = (1 - batch_target) * frac_connected_edges\n",
    "        batch_weights = batch_weights_real + batch_weights_fake\n",
    "    else:\n",
    "        batch_weights_real = batch_target\n",
    "        batch_weights_fake = (1 - batch_target)\n",
    "        batch_weights = batch_weights_real + batch_weights_fake\n",
    "        \n",
    "    if not pretrain:\n",
    "        batch_weights = batch_weights_real*(1 - frac_connected_edges) + batch_weights_fake\n",
    "    \n",
    "    return batch_weights\n",
    " \n",
    "def train(data_loader, model, optimizer, criterion, epochs=1, \n",
    "          cache={'loss':[]}, device=torch.device(\"cpu\"), \n",
    "          pretrain=None, weighted = False, validation_set = None):\n",
    "    \n",
    "    print('len of cache is = ',len(cache['loss']))\n",
    "    isGPU = torch.cuda.is_available() and 'cuda'==device.type\n",
    "    if isGPU and not next(model.parameters()).is_cuda:\n",
    "        print('copy the model to GPU')\n",
    "        model.to(device)\n",
    "    tic = time.time()\n",
    "    for epoch in range(epochs):\n",
    "        for i, (batch_input, batch_target) in enumerate(data_loader):\n",
    "            \n",
    "            #training performed in two steps, once on the full data, remove back edges bellow the threshold\n",
    "            #then train again (with pretrain=pretrained model)\n",
    "            threshold = 0.2\n",
    "            \n",
    "            X, Is = batch_input\n",
    "            batch_input = get_inputs(X, Is, device)\n",
    "\n",
    "            batch_target = torch_ft(batch_target)\n",
    "\n",
    "            if pretrain:\n",
    "                pretrain.eval()\n",
    "                with torch.no_grad():\n",
    "                    e = torch.sigmoid(pretrain(batch_input))\n",
    "                    \n",
    "                #filter inputs\n",
    "                mask_edges = ((e + batch_target) > threshold).nonzero().squeeze().cpu()\n",
    "                Is_filter = Is[mask_edges]\n",
    "                e = e[mask_edges]\n",
    "                batch_target = batch_target[mask_edges]\n",
    "                batch_input = get_inputs(X, Is_filter, device)\n",
    "                batch_input.append(e)\n",
    "                \n",
    "                #batch_weights = batch_target + (1 - batch_target)\n",
    "\n",
    "            batch_weights = get_batch_weights(batch_target, weighted, pretrain)\n",
    "            \n",
    "            #evaluate the model, and compute the gradients\n",
    "            batch_output = model(batch_input)\n",
    "            loss=criterion(batch_output, batch_target, weight=batch_weights)\n",
    "            optimizer.zero_grad()\n",
    "            loss.backward()\n",
    "            optimizer.step()\n",
    "            \n",
    "        cache['loss'].append(loss.item())\n",
    "        #evaluate validation loss:\n",
    "        if validation_set:\n",
    "            with torch.no_grad():\n",
    "                test_inputs, test_target = next(iter(test_loader))\n",
    "                test_X, test_Is = test_inputs\n",
    "                test_inputs = get_inputs(test_X, test_Is, device)\n",
    "                test_target = torch_ft(test_target)\n",
    "                \n",
    "                if pretrain:\n",
    "                    test_e = torch.sigmoid(pretrain(test_inputs))\n",
    "\n",
    "                    #filter first training:\n",
    "                    test_mask_edges = (test_e > threshold).nonzero().squeeze().cpu()\n",
    "                    Is_filter = test_Is[test_mask_edges]\n",
    "                    test_e = test_e[test_mask_edges]\n",
    "                    test_target = test_target[test_mask_edges]\n",
    "                    test_inputs = get_inputs(test_X, Is_filter, device)\n",
    "                    test_inputs.append(test_e)\n",
    "                    \n",
    "                test_weights = get_batch_weights(test_target, weighted, pretrain)\n",
    "    \n",
    "                #evaluate\n",
    "                test_pred = model(test_inputs)\n",
    "                vloss = criterion(test_pred, test_target, weight=test_weights)\n",
    "                cache['val_loss'].append(vloss.item())\n",
    "                \n",
    "            printProgressBar(epoch, epochs, [loss.item(),vloss.item()])\n",
    "        else: printProgressBar(epoch, epochs, [loss.item()])\n",
    "    toc = time.time()\n",
    "    print('total time: %2.2f sec' %(toc-tic))\n",
    "    return cache\n",
    "\n",
    "def printProgressBar (iteration, total, losses = [], decimals = 1, length = 50):\n",
    "    total = total - 1 #since usually we start from 0 till n-1\n",
    "    percent = (\"{0:.\" + str(decimals) + \"f}\").format(100 * (iteration / float(total)))\n",
    "    filledLength = int(length * iteration // total)\n",
    "    bar = '#' * filledLength + '-' * (length - filledLength)\n",
    "    if len(losses)==1:\n",
    "        print('\\rprogress |%s| %s%% loss - %s' % (bar, percent, str(losses[0])), end = '\\r')\n",
    "    else:\n",
    "        print('\\rprogress |%s| %s%% loss - %2.5f | validation - %2.5f' % \n",
    "              (bar, percent, float(losses[0]), float(losses[1])), end = '\\r')\n",
    "    # Print New Line on Complete\n",
    "    if iteration == total: \n",
    "        print()"
   ]
  },
  {
   "cell_type": "markdown",
   "metadata": {},
   "source": [
    "# Model parameters, and training\n",
    "\n",
    "model, criterion and optimizer. using `nn.functional` to define \"weighted loss\"\n",
    "\n",
    "Define function to visualize the results"
   ]
  },
  {
   "cell_type": "code",
   "execution_count": 8,
   "metadata": {},
   "outputs": [],
   "source": [
    "import sklearn.metrics\n",
    "def AnalyzeThreshold(test_pred, test_target, log=True):\n",
    "    thresh=0.5\n",
    "    y_true = (test_target > thresh)\n",
    "    fpr, tpr, _ = sklearn.metrics.roc_curve(y_true, test_pred)\n",
    "    \n",
    "    fig, (ax0, ax1) = plt.subplots(ncols=2, figsize=(12,5))\n",
    "\n",
    "    # Plot the model outputs\n",
    "    binning=dict(bins=50, range=(0,1), histtype='bar', log=log)\n",
    "    ax0.hist(test_pred[test_target<thresh], label='fake', **binning, alpha=0.7)\n",
    "    ax0.hist(test_pred[test_target>thresh], label='true', **binning, alpha=0.7)\n",
    "    ax0.set_xlabel('Model output')\n",
    "    ax0.legend(loc=0)\n",
    "\n",
    "    # Plot the ROC curve\n",
    "    auc = sklearn.metrics.auc(fpr, tpr)\n",
    "    ax1.plot(fpr, tpr)\n",
    "    ax1.plot([0, 1], [0, 1], '--')\n",
    "    ax1.set_xlabel('False positive rate')\n",
    "    ax1.set_ylabel('True positive rate')\n",
    "    ax1.set_title('ROC curve, AUC = %.3f' % auc)\n",
    "\n",
    "    plt.tight_layout()"
   ]
  },
  {
   "cell_type": "markdown",
   "metadata": {},
   "source": [
    "## first training \n",
    "\n",
    "train a simple NN to reject bad edges, to speed up the training of GNN"
   ]
  },
  {
   "cell_type": "code",
   "execution_count": 9,
   "metadata": {},
   "outputs": [],
   "source": [
    "class PreTrainModel(nn.Module):\n",
    "    def __init__(self, input_dim=6, hidden_features=40, hidden_activation=nn.Tanh):\n",
    "        super(PreTrainModel, self).__init__()\n",
    "        \n",
    "        self.network1 = nn.Sequential(\n",
    "            nn.Linear(input_dim, hidden_features, bias=False),\n",
    "            hidden_activation(),\n",
    "            nn.Linear(hidden_features, hidden_features, bias=True),\n",
    "            hidden_activation(),\n",
    "            nn.Linear(hidden_features, hidden_features, bias=True),\n",
    "            hidden_activation(),\n",
    "            nn.Linear(hidden_features, hidden_features, bias=True),            \n",
    "            hidden_activation())\n",
    "                \n",
    "        self.network2 = nn.Sequential(\n",
    "            nn.Linear(input_dim + hidden_features, hidden_features, bias=False),\n",
    "            hidden_activation(),\n",
    "            nn.Linear(hidden_features, hidden_features, bias=True),   \n",
    "            hidden_activation(),\n",
    "            nn.Linear(hidden_features, hidden_features, bias=True),            \n",
    "            hidden_activation(),\n",
    "            nn.Linear(hidden_features, hidden_features, bias=True),\n",
    "            hidden_activation())\n",
    "        \n",
    "        self.network3 = nn.Sequential(\n",
    "            nn.Linear(input_dim + 2*hidden_features, hidden_features, bias=False),\n",
    "            hidden_activation(),\n",
    "            nn.Linear(hidden_features, hidden_features//2, bias=True),\n",
    "            hidden_activation(),\n",
    "            nn.Linear(hidden_features//2, hidden_features//4, bias=True),\n",
    "            hidden_activation(),            \n",
    "            nn.Linear(hidden_features//4, 1, bias=False))\n",
    "        \n",
    "        \n",
    "    def forward(self, inputs):\n",
    "        X, Ro, Ri = inputs\n",
    "        \n",
    "        #combine two nodes to construct edge:\n",
    "        bo = Ro.transpose(0,1).mm(X)\n",
    "        bi = Ri.transpose(0,1).mm(X)\n",
    "        E = bo - bi\n",
    "        \n",
    "        #reshape input parameters:\n",
    "        ReshapeEdges(E)\n",
    "        \n",
    "        E1 = self.network1(E)\n",
    "        E2 = self.network2(torch.cat([E1, E], dim=-1))\n",
    "        e = self.network3(torch.cat([E1, E2, E], dim=-1))\n",
    "        return e.squeeze(-1) \n",
    "\n",
    "def ReshapeEdges(E):\n",
    "    E[:,0] = E[:,0]/1300\n",
    "    E[:,1] = E[:,1]/1300\n",
    "    E[:,2] = E[:,2]/250\n",
    "    E[:,3] = torch.acos(torch.cos(E[:,3]))/1.57\n",
    "    E[:,4] = torch.abs(E[:,4])/2.0\n",
    "    E[:,5] = -E[:,5]/210.0"
   ]
  },
  {
   "cell_type": "code",
   "execution_count": null,
   "metadata": {},
   "outputs": [],
   "source": [
    "model1 = PreTrainModel(hidden_features=32)\n",
    "cache1 = CreateCash(model1)\n",
    "#model1.to(device)\n",
    "criterion1 = getattr(nn.functional, 'binary_cross_entropy_with_logits')\n",
    "optimizer1 = optim.Adam(model1.parameters(), lr = 0.05)\n"
   ]
  },
  {
   "cell_type": "code",
   "execution_count": null,
   "metadata": {},
   "outputs": [],
   "source": [
    "for param_group in optimizer1.param_groups:\n",
    "    param_group['lr'] = 0.0005"
   ]
  },
  {
   "cell_type": "code",
   "execution_count": null,
   "metadata": {
    "scrolled": false
   },
   "outputs": [],
   "source": [
    "cache = train(train_loader, model1, optimizer1, criterion1, 500, \n",
    "              cache1, weighted = True, device = device, validation_set = test_loader)\n",
    "plt.plot(cache['loss'],label='training loss')\n",
    "plt.plot(cache['val_loss'],label='validation loss')\n",
    "plt.legend(); plt.show() \n",
    "torch.save(model1.state_dict(), PATH+'weights_pretrain2.pt')\n",
    "torch.save({\n",
    "    'model_state_dict': model1.state_dict(),\n",
    "    'optimizer_state_dict': optimizer1.state_dict(),\n",
    "    'cache': cache1,\n",
    "}, PATH+'training_pretrain2.pt')"
   ]
  },
  {
   "cell_type": "code",
   "execution_count": null,
   "metadata": {},
   "outputs": [],
   "source": [
    "torch.save(model1.state_dict(), PATH+'weights_pretrain.pt')\n",
    "torch.save({\n",
    "    'model_state_dict': model1.state_dict(),\n",
    "    'optimizer_state_dict': optimizer1.state_dict(),\n",
    "    'cache': cache1,\n",
    "}, PATH+'training_pretrain.pt')"
   ]
  },
  {
   "cell_type": "markdown",
   "metadata": {},
   "source": [
    "Check training results"
   ]
  },
  {
   "cell_type": "code",
   "execution_count": null,
   "metadata": {},
   "outputs": [],
   "source": [
    "%%time\n",
    "test_dataset = trackDataLoader(test_files, 1) #test_files train_files\n",
    "test_loader = DataLoader(test_dataset, batch_size = len(test_files), collate_fn=collate_fn)\n",
    "with torch.no_grad():\n",
    "    test_pred, test_target = next(iter(test_loader))\n",
    "    X, Is = test_pred\n",
    "    test_pred = get_inputs(X, Is, device)\n",
    "    test_pred = model1(test_pred)\n",
    "    test_pred = torch.sigmoid(test_pred)\n",
    "    test_target = torch.FloatTensor(test_target)\n",
    "AnalyzeThreshold(test_pred.cpu(), test_target, log=True)\n"
   ]
  },
  {
   "cell_type": "code",
   "execution_count": null,
   "metadata": {},
   "outputs": [],
   "source": [
    "threshold = 0.05\n",
    "print('signal eff = %2.2f%%'%(test_target[test_pred>threshold].sum()/test_target[test_pred>-1].sum()*100))\n",
    "print('edge filtering = %2.2f%%'%(100*(test_pred>0.5).nonzero().shape[0]/test_pred.shape[0]))\n",
    "print(test_pred.shape[0],' -> ',(test_pred>0.5).nonzero().shape[0])"
   ]
  },
  {
   "cell_type": "markdown",
   "metadata": {},
   "source": [
    "Save weights for the first model, before training the second model (GNN)"
   ]
  },
  {
   "cell_type": "code",
   "execution_count": null,
   "metadata": {},
   "outputs": [],
   "source": [
    "PATH = '/mnt/lustre/agrp/pitt/ML/trackML/sample_code_submission/GraphBuilder/data/'\n",
    "torch.save(model1.state_dict(), PATH+'weights_pretrain.pt')\n",
    "torch.save({\n",
    "    'model_state_dict': model1.state_dict(),\n",
    "    'optimizer_state_dict': optimizer1.state_dict(),\n",
    "    'cache': cache1,\n",
    "}, PATH+'training_pretrain.pt')"
   ]
  },
  {
   "cell_type": "markdown",
   "metadata": {},
   "source": [
    "Load weights"
   ]
  },
  {
   "cell_type": "code",
   "execution_count": 10,
   "metadata": {},
   "outputs": [],
   "source": [
    "PATH = '/mnt/lustre/agrp/pitt/ML/trackML/sample_code_submission/GraphBuilder/data/'\n",
    "model1 = PreTrainModel(hidden_features=32)\n",
    "criterion1 = getattr(nn.functional, 'binary_cross_entropy_with_logits')\n",
    "optimizer1 = optim.Adam(model1.parameters(), lr = 0.05)\n",
    "\n",
    "checkpoint = torch.load(PATH+'training_pretrain.pt')\n",
    "model1.load_state_dict(checkpoint['model_state_dict'])\n",
    "model1.to(device)\n",
    "optimizer1.load_state_dict(checkpoint['optimizer_state_dict'])\n",
    "cache1 = checkpoint['cache']\n"
   ]
  },
  {
   "cell_type": "markdown",
   "metadata": {},
   "source": [
    "## Second training\n",
    "\n",
    "Once we have first training on the edges, we can reject the edges to reduce the size of the events. The node inputs remaing the same, while the $I_S$ index matrix will be reduced, to keep only fake edges that have get high weights during the first training"
   ]
  },
  {
   "cell_type": "code",
   "execution_count": 29,
   "metadata": {},
   "outputs": [],
   "source": [
    "class EdgeClasification(nn.Module):\n",
    "    def __init__(self, input_dim, hidden_features, hidden_activation=nn.Tanh):\n",
    "        super(EdgeClasification, self).__init__()\n",
    "        self.network = nn.Sequential(\n",
    "            nn.Linear(input_dim * 3, hidden_features, bias=True),\n",
    "            hidden_activation(),\n",
    "            nn.Linear(hidden_features, hidden_features, bias=True),\n",
    "            hidden_activation(),\n",
    "            nn.Linear(hidden_features, hidden_features//2, bias=True),            \n",
    "            hidden_activation(),\n",
    "            nn.Linear(hidden_features//2, hidden_features//4, bias=True),\n",
    "            hidden_activation(),\n",
    "            nn.Linear(hidden_features//4, 1, bias=True),\n",
    "            nn.Sigmoid())\n",
    "        \n",
    "    def forward(self, H, Ro, Ri, e):\n",
    "        eH = e[:,None]*H\n",
    "        Ho = Ri.transpose(0,1).mm(Ro.mm(eH))\n",
    "        Hi = Ro.transpose(0,1).mm(Ri.mm(eH))\n",
    "        return self.network(torch.cat([Ho, H, Hi], dim=1))\n",
    "        #return self.network(H)\n",
    "\n",
    "class EdgeRepresentation(nn.Module):\n",
    "    def __init__(self, input_dim, edge_dim, hidden_features, hidden_activation=nn.Tanh):\n",
    "        super(EdgeRepresentation, self).__init__()\n",
    "        self.network1 = nn.Sequential(\n",
    "            nn.Linear(input_dim, hidden_features, bias=False),\n",
    "            hidden_activation(),\n",
    "            nn.Linear(hidden_features, hidden_features, bias=True),\n",
    "            hidden_activation(),\n",
    "            nn.Linear(hidden_features, hidden_features, bias=True),\n",
    "            hidden_activation())\n",
    "        \n",
    "        self.network2 = nn.Sequential(\n",
    "            nn.Linear(input_dim + hidden_features, hidden_features, bias=False),\n",
    "            hidden_activation(),\n",
    "            nn.Linear(hidden_features, hidden_features, bias=True),\n",
    "            hidden_activation(),\n",
    "            nn.Linear(hidden_features, hidden_features, bias=True),\n",
    "            hidden_activation())\n",
    "               \n",
    "        self.network3 = nn.Sequential(\n",
    "            nn.Linear(input_dim + 2*hidden_features, hidden_features, bias=False),\n",
    "            hidden_activation(),\n",
    "            nn.Linear(hidden_features, hidden_features//2, bias=True),\n",
    "            hidden_activation(),\n",
    "            nn.Linear(hidden_features//2, edge_dim, bias=False),\n",
    "            hidden_activation())\n",
    "        \n",
    "    def forward(self, E):\n",
    "        H1 = self.network1(E)\n",
    "        H2 = self.network2(torch.cat([H1, E], dim=-1))\n",
    "        return self.network3(torch.cat([H1, H2, E], dim=-1))\n",
    "\n",
    "class GNNmodel(nn.Module):\n",
    "    def __init__(self, input_dim=6, edge_dim = 8, hidden_dim=40, niter=2, hidden_activation=nn.Tanh):\n",
    "        super(GNNmodel, self).__init__()\n",
    "        \n",
    "        self.edge_repr = EdgeRepresentation(input_dim, edge_dim, hidden_dim, hidden_activation)\n",
    "                             \n",
    "        self.clasifier = EdgeClasification(edge_dim, hidden_dim, hidden_activation)\n",
    "               \n",
    "        self.niter = niter\n",
    "                \n",
    "    def forward(self, inputs):\n",
    "        X, Ro, Ri, w = inputs\n",
    "        \n",
    "        #combine two nodes to construct edge:\n",
    "        bo = Ro.transpose(0,1).mm(X)\n",
    "        bi = Ri.transpose(0,1).mm(X)\n",
    "        E = bo - bi\n",
    "        ReshapeEdges(E)\n",
    "        \n",
    "        H = self.edge_repr(E)\n",
    "            \n",
    "        # evaluate edge weight\n",
    "        for i in range(self.niter):\n",
    "            e = self.clasifier(H, Ro, Ri, w)\n",
    "        \n",
    "        # learn from neighbours\n",
    "        #e = self.clasifier(H, Ro, Ri, e) \n",
    "        #optimize future training for high edge weights only\n",
    "        \n",
    "        return e.squeeze(-1) \n",
    "    "
   ]
  },
  {
   "cell_type": "code",
   "execution_count": 30,
   "metadata": {},
   "outputs": [],
   "source": [
    "model = GNNmodel(edge_dim = 16, hidden_dim = 32, niter = 2)\n",
    "cache = CreateCash(model)\n",
    "criterion = getattr(nn.functional, 'binary_cross_entropy')\n",
    "optimizer = optim.Adam(model.parameters(), lr = 0.01)\n",
    "#device=torch.device(\"cpu\") #change to cuda if available"
   ]
  },
  {
   "cell_type": "markdown",
   "metadata": {},
   "source": [
    "train model"
   ]
  },
  {
   "cell_type": "code",
   "execution_count": 32,
   "metadata": {
    "scrolled": true
   },
   "outputs": [
    {
     "name": "stdout",
     "output_type": "stream",
     "text": [
      "len of cache is =  0\n",
      "copy the model to GPU\n",
      "progress |##################################################| 100.0% loss - 0.05450 | validation - 0.06429\n",
      "total time: 7360.37 sec\n"
     ]
    },
    {
     "data": {
      "image/png": "[encoded data removed]",
      "text/plain": [
       "<Figure size 432x288 with 1 Axes>"
      ]
     },
     "metadata": {
      "needs_background": "light"
     },
     "output_type": "display_data"
    }
   ],
   "source": [
    "cache = train(train_loader, model, optimizer, criterion, 100,\n",
    "              cache, weighted = True, device = device, pretrain = model1, validation_set = test_loader)\n",
    "plt.plot(cache['loss'],label='training loss')\n",
    "plt.plot(cache['val_loss'],label='validation loss')\n",
    "plt.legend(); plt.show() \n",
    "torch.save(model.state_dict(), PATH+'weights_gnn_filtered2.pt')"
   ]
  },
  {
   "cell_type": "markdown",
   "metadata": {},
   "source": [
    "To train more the model, we can change the learning rate"
   ]
  },
  {
   "cell_type": "code",
   "execution_count": null,
   "metadata": {},
   "outputs": [],
   "source": [
    "for param_group in optimizer.param_groups:\n",
    "    param_group['lr'] = 0.0001"
   ]
  },
  {
   "cell_type": "code",
   "execution_count": null,
   "metadata": {},
   "outputs": [],
   "source": [
    "cache = train(train_loader, model, optimizer, criterion, 5,\n",
    "              cache, weighted = True, device = device, pretrain = model1, validation_set = test_loader)\n",
    "plt.plot(cache['loss'],label='training loss')\n",
    "plt.plot(cache['val_loss'],label='validation loss')\n",
    "plt.legend(); plt.show() \n",
    "\n",
    "PATH = '/mnt/lustre/agrp/pitt/ML/trackML/sample_code_submission/GraphBuilder/data/'\n",
    "torch.save(model.state_dict(), PATH+'weights_gnn_filtered2.pt')\n",
    "torch.save({\n",
    "    'model_state_dict': model.state_dict(),\n",
    "    'optimizer_state_dict': optimizer.state_dict(),\n",
    "    'cache': cache,\n",
    "}, PATH+'training_gnn_filtered2.pt')"
   ]
  },
  {
   "cell_type": "markdown",
   "metadata": {},
   "source": [
    "Check model performance"
   ]
  },
  {
   "cell_type": "code",
   "execution_count": 33,
   "metadata": {},
   "outputs": [
    {
     "name": "stdout",
     "output_type": "stream",
     "text": [
      "CPU times: user 11.2 s, sys: 80 ms, total: 11.3 s\n",
      "Wall time: 787 ms\n"
     ]
    },
    {
     "data": {
      "image/png": "[encoded data removed]",
      "text/plain": [
       "<Figure size 864x360 with 2 Axes>"
      ]
     },
     "metadata": {
      "needs_background": "light"
     },
     "output_type": "display_data"
    }
   ],
   "source": [
    "%%time\n",
    "#test_dataset = trackDataLoader(test_file, 1) #test_file train_files\n",
    "#test_loader = DataLoader(test_dataset, batch_size = len(test_file), collate_fn=collate_fn)\n",
    "with torch.no_grad():\n",
    "    inputs, test_target = next(iter(test_loader))\n",
    "    X, Is = inputs\n",
    "    inputs = get_inputs(X, Is, device)\n",
    "    e = torch.sigmoid(model1(inputs))\n",
    "    \n",
    "    #filter first training:\n",
    "    mask_edges = (e > 0.2).nonzero().squeeze().cpu()\n",
    "    Is_filter = Is[mask_edges]\n",
    "    e = e[mask_edges]\n",
    "    test_target = test_target[mask_edges]\n",
    "    inputs = get_inputs(X, Is_filter, device)\n",
    "    inputs.append(e)\n",
    "    \n",
    "    #evaluate\n",
    "    test_pred = model(inputs)\n",
    "    test_target = torch.FloatTensor(test_target)\n",
    "AnalyzeThreshold(test_pred.cpu(), test_target, log=True)\n"
   ]
  },
  {
   "cell_type": "markdown",
   "metadata": {},
   "source": [
    "Save the trained model:"
   ]
  },
  {
   "cell_type": "code",
   "execution_count": 34,
   "metadata": {},
   "outputs": [],
   "source": [
    "PATH = '/mnt/lustre/agrp/pitt/ML/trackML/sample_code_submission/GraphBuilder/data/'\n",
    "torch.save(model.state_dict(), PATH+'weights_gnn_filtered2.pt')\n",
    "torch.save({\n",
    "    'model_state_dict': model.state_dict(),\n",
    "    'optimizer_state_dict': optimizer.state_dict(),\n",
    "    'cache': cache,\n",
    "}, PATH+'training_gnn_filtered2.pt')"
   ]
  },
  {
   "cell_type": "markdown",
   "metadata": {},
   "source": [
    "Load weights, and continue training"
   ]
  },
  {
   "cell_type": "code",
   "execution_count": null,
   "metadata": {
    "scrolled": true
   },
   "outputs": [],
   "source": [
    "PATH = '/mnt/lustre/agrp/pitt/ML/trackML/sample_code_submission/GraphBuilder/data/'\n",
    "model = GNNmodel(edge_dim = 16, hidden_dim=32)\n",
    "criterion = getattr(nn.functional, 'binary_cross_entropy')\n",
    "optimizer = optim.Adam(model.parameters(), lr = 0.01)\n",
    "\n",
    "checkpoint = torch.load(PATH+'training_gnn_filtered2.pt')\n",
    "model.load_state_dict(checkpoint['model_state_dict'])\n",
    "model.to(device)\n",
    "optimizer.load_state_dict(checkpoint['optimizer_state_dict'])\n",
    "cache = checkpoint['cache']\n",
    "next(model.parameters()).is_cuda"
   ]
  },
  {
   "cell_type": "markdown",
   "metadata": {},
   "source": [
    "# Code performance\n",
    "\n",
    "evaluate accuracy of the predictions using the submission code:"
   ]
  },
  {
   "cell_type": "code",
   "execution_count": null,
   "metadata": {},
   "outputs": [],
   "source": [
    "# need to be done in a docker\n",
    "# from trackml.score import score_event\n",
    "# copy the weights to the GraphBuilder/data folder and run ./run.sh from sample_code_submission"
   ]
  },
  {
   "cell_type": "markdown",
   "metadata": {},
   "source": [
    "### Full model validation checks\n",
    "Draw the weights of the model and a ROC curve.\n",
    "\n",
    "Check the results for full data (also available in [eval_model_filter](eval_model_filter.ipynb) notebook):"
   ]
  },
  {
   "cell_type": "code",
   "execution_count": 35,
   "metadata": {
    "scrolled": false
   },
   "outputs": [
    {
     "ename": "RuntimeError",
     "evalue": "CUDA error: device-side assert triggered",
     "output_type": "error",
     "traceback": [
      "\u001b[0;31m---------------------------------------------------------------------------\u001b[0m",
      "\u001b[0;31mRuntimeError\u001b[0m                              Traceback (most recent call last)",
      "\u001b[0;32m<timed exec>\u001b[0m in \u001b[0;36m<module>\u001b[0;34m\u001b[0m\n",
      "\u001b[0;31mRuntimeError\u001b[0m: CUDA error: device-side assert triggered"
     ]
    }
   ],
   "source": [
    "%%time\n",
    "#test_dataset = trackDataLoader(test_files, 1) #test_file train_files\n",
    "#test_loader = DataLoader(test_dataset, batch_size = len(test_file), collate_fn=collate_fn)\n",
    "with torch.no_grad():\n",
    "    inputs, test_target = next(iter(test_loader))\n",
    "    X, Is = inputs\n",
    "    inputs = get_inputs(X, Is, device)\n",
    "    e = torch.sigmoid(model1(inputs))\n",
    "    \n",
    "    #filter first training:\n",
    "    mask_edges = (e > 0.2).nonzero().squeeze().cpu()\n",
    "    Is_filter = Is[mask_edges]\n",
    "    e_masked = e[mask_edges]\n",
    "    test_target_masked = test_target[mask_edges]\n",
    "    inputs = get_inputs(X, Is_filter, device)\n",
    "    inputs.append(e_masked)\n",
    "    \n",
    "    #evaluate second round, and append to the first predictions\n",
    "    test_pred_masked = model(inputs)\n",
    "    test_pred[mask_edges] = test_pred_masked\n",
    "    \n",
    "    test_target = torch.FloatTensor(test_target)\n",
    "AnalyzeThreshold(test_pred.cpu(), test_target, log=True)\n"
   ]
  },
  {
   "cell_type": "code",
   "execution_count": 36,
   "metadata": {},
   "outputs": [
    {
     "name": "stdout",
     "output_type": "stream",
     "text": [
      "total stats: 15030 good and 307436 fake edges\n"
     ]
    },
    {
     "ename": "RuntimeError",
     "evalue": "cuda runtime error (59) : device-side assert triggered at /mnt/lustre/agrp/pitt/ML/pytorch/aten/src/THC/THCTensorMathCompare.cuh:82",
     "output_type": "error",
     "traceback": [
      "\u001b[0;31m---------------------------------------------------------------------------\u001b[0m",
      "\u001b[0;31mRuntimeError\u001b[0m                              Traceback (most recent call last)",
      "\u001b[0;32m<ipython-input-36-1e395fb25ee7>\u001b[0m in \u001b[0;36m<module>\u001b[0;34m\u001b[0m\n\u001b[1;32m      2\u001b[0m \u001b[0mprint\u001b[0m\u001b[0;34m(\u001b[0m\u001b[0;34m'total stats: %d good and %d fake edges'\u001b[0m\u001b[0;34m%\u001b[0m\u001b[0;34m(\u001b[0m\u001b[0mtest_target\u001b[0m\u001b[0;34m.\u001b[0m\u001b[0msum\u001b[0m\u001b[0;34m(\u001b[0m\u001b[0;34m)\u001b[0m\u001b[0;34m,\u001b[0m\u001b[0;34m(\u001b[0m\u001b[0mtest_target\u001b[0m\u001b[0;34m==\u001b[0m\u001b[0;36m0\u001b[0m\u001b[0;34m)\u001b[0m\u001b[0;34m.\u001b[0m\u001b[0msum\u001b[0m\u001b[0;34m(\u001b[0m\u001b[0;34m)\u001b[0m\u001b[0;34m)\u001b[0m\u001b[0;34m)\u001b[0m\u001b[0;34m\u001b[0m\u001b[0;34m\u001b[0m\u001b[0m\n\u001b[1;32m      3\u001b[0m print('signal eff = %2.2f%% are above threshold'\n\u001b[0;32m----> 4\u001b[0;31m       %(test_target[test_pred>cut_edge_weight].sum()/test_target[test_pred>-1].sum()*100))\n\u001b[0m\u001b[1;32m      5\u001b[0m print('signal purity = above the threshold %2.2f%% are truth edges'\n\u001b[1;32m      6\u001b[0m       %(test_target[test_pred>cut_edge_weight].sum()/(test_pred>cut_edge_weight).sum()*100))\n",
      "\u001b[0;31mRuntimeError\u001b[0m: cuda runtime error (59) : device-side assert triggered at /mnt/lustre/agrp/pitt/ML/pytorch/aten/src/THC/THCTensorMathCompare.cuh:82"
     ]
    }
   ],
   "source": [
    "cut_edge_weight = 0.9\n",
    "print('total stats: %d good and %d fake edges'%(test_target.sum(),(test_target==0).sum()))\n",
    "print('signal eff = %2.2f%% are above threshold'\n",
    "      %(test_target[test_pred>cut_edge_weight].sum()/test_target[test_pred>-1].sum()*100))\n",
    "print('signal purity = above the threshold %2.2f%% are truth edges'\n",
    "      %(test_target[test_pred>cut_edge_weight].sum()/(test_pred>cut_edge_weight).sum()*100))\n"
   ]
  },
  {
   "cell_type": "code",
   "execution_count": null,
   "metadata": {},
   "outputs": [],
   "source": []
  },
  {
   "cell_type": "code",
   "execution_count": null,
   "metadata": {},
   "outputs": [],
   "source": []
  }
 ],
 "metadata": {
  "kernelspec": {
   "display_name": "Python 3",
   "language": "python",
   "name": "python3"
  },
  "language_info": {
   "codemirror_mode": {
    "name": "ipython",
    "version": 3
   },
   "file_extension": ".py",
   "mimetype": "text/x-python",
   "name": "python",
   "nbconvert_exporter": "python",
   "pygments_lexer": "ipython3",
   "version": "3.7.2"
  }
 },
 "nbformat": 4,
 "nbformat_minor": 2
}
