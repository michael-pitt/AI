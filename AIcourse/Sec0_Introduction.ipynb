{
 "cells": [
  {
   "cell_type": "markdown",
   "metadata": {},
   "source": [
    "# Section 0: Introduction to python\n",
    "\n",
    "## Jupyter notebook\n",
    "\n",
    "Welcome to Jupyter notebook/python tutorial! \n",
    "This is an introductory notebook where we will learn:\n",
    "- how to execute python commands\n",
    "- how to define functions\n",
    "- we will gain experience with the power of existing libraries, such as `numpy`.\n",
    "\n",
    "The project Jupyter (https://jupyter.org/), named as a homage to Galileo's notebooks, is useful for interactive computing in multiple programming languages.\n",
    "\n",
    "<br>\n",
    "![add](images/GalileoNotebook.jpg)",
    "<caption><center> <u><b> Figure 1 </b></u>: Drawings from Galileo’s notebook<br> </center></caption>\n",
    "\n",
    "<br>\n",
    "\n",
    "The Name Jupyter is a referejce to three programming languages: <b>Ju</b>lia, <b>Pyt</b>hon and <b>R</b>.\n",
    "\n",
    "<br>\n",
    "\n",
    "One of the advantages is that a Text can be added to Jupyter Notebooks using Markdown cells (as this one), where we can add parts of the code, equations or embedded images.\n",
    "\n",
    "In the notebook, each cell can be executed separately by pressing `shift+Enter`.\n",
    "\n",
    "Let's execute the following cell:"
   ]
  },
  {
   "cell_type": "code",
   "execution_count": null,
   "metadata": {},
   "outputs": [],
   "source": [
    "#This is a \"hello world\" print command, to execute it, press shift+Enter\n",
    "print('Hello world')"
   ]
  },
  {
   "cell_type": "markdown",
   "metadata": {},
   "source": [
    "### Variables\n",
    "\n",
    "Python is an interactive programming language, which has a design philosophy that emphasizes <b>code readability</b>.\n",
    "\n",
    "When we assign a value to a variable, we don't need to specify the type:\n",
    "\n",
    "let's execute next example:\n",
    "```python\n",
    "x = 23\n",
    "print('x = ',x)\n",
    "x = 'Hello world'\n",
    "print('x = ',x)\n",
    "```"
   ]
  },
  {
   "cell_type": "code",
   "execution_count": null,
   "metadata": {},
   "outputs": [],
   "source": [
    "####################################################\n",
    "#  Type here the code above and inspect the result #\n",
    "####################################################\n",
    "x = 23\n",
    "print('The variable x is equal to ',x)\n",
    "x = 'Hello world'\n",
    "print('The variable x is equal to ',x)"
   ]
  },
  {
   "cell_type": "markdown",
   "metadata": {},
   "source": [
    "In the example before, we assigned a value to a variable and printed its content. In the case when we would like to call the same code several times, it is useful to define a function.\n",
    "\n",
    "The syntax in python is different from a <i>c++</i> syntax:\n",
    "\n",
    "In <i>c++</i>:\n",
    "```javascript\n",
    "#include<iostream>\n",
    "using namespace std;\n",
    "void MyFunction(int);\n",
    "void MyFunction(string);\n",
    "\n",
    "void MyFunction(int var){\n",
    "    cout << \"The variable x is equal to \" << var << endl;\n",
    "}\n",
    "void MyFunction(string var){\n",
    "    cout << \"The variable x is equal to \" << var << endl;\n",
    "}\n",
    "\n",
    "```\n",
    "\n",
    "In <i>python</i>:\n",
    "\n",
    "```python\n",
    "def MyFunction(x):\n",
    "    print('The variable x is equal to ',x)\n",
    "\n",
    "```\n",
    "\n",
    "Let's define the function in the next cell, and execute the same code as before but instead of print command we will use our new function:"
   ]
  },
  {
   "cell_type": "code",
   "execution_count": null,
   "metadata": {},
   "outputs": [],
   "source": [
    "def MyFunction(x):\n",
    "    print('The variable x is equal to ',x)"
   ]
  },
  {
   "cell_type": "code",
   "execution_count": null,
   "metadata": {},
   "outputs": [],
   "source": [
    "####################################################\n",
    "#  Type here the code above and inspect the result #\n",
    "####################################################\n",
    "x = 23\n",
    "# HERE use the 'MyFunction(x)' function instead of the print command\n",
    "x = 'Hello world'\n",
    "# HERE use the 'MyFunction(x)' function instead of the print command"
   ]
  },
  {
   "cell_type": "markdown",
   "metadata": {},
   "source": [
    "## Computational complexity \n",
    "\n",
    "For the last exercise of the <b>introduction session</b> let's do some computations.\n",
    "\n",
    "In the next example, we will see how execution time can change if we will use already existing modules.\n",
    "\n",
    "The task is to compute a dot product betwen two vectors $\\vec{a}$ and $\\vec{b}$. The multiplication $c = \\vec{a}\\cdot \\vec{b}$ is defined by:\n",
    "\n",
    "$$ C = \\Sigma_k a_{k}b_{k}$$ \n",
    "\n",
    "In the next cell we will define the vectors, and import two packages: `numpy` and `time`. We will use them to create vectors with random variables (where each entry is a random number between 0 and 1) and to compute the execution time of our calculations."
   ]
  },
  {
   "cell_type": "code",
   "execution_count": null,
   "metadata": {},
   "outputs": [],
   "source": [
    "import numpy as np\n",
    "import time\n",
    "n=1000000\n",
    "a=np.random.rand(n) # a is n-dim vector random variables\n",
    "b=np.random.rand(n) # b is n-dim vector random variables"
   ]
  },
  {
   "cell_type": "markdown",
   "metadata": {},
   "source": [
    "Let's perform matrix multiplication, as defined previously using the for loop and compute the execution time:"
   ]
  },
  {
   "cell_type": "code",
   "execution_count": null,
   "metadata": {},
   "outputs": [],
   "source": [
    "c = 0\n",
    "tic=time.time()\n",
    "for i in range(n):\n",
    "    c += a[i]*b[i]  \n",
    "toc=time.time()\n",
    "print('c = ',c)\n",
    "print('For loop: %2.2f ms' % (1000*(toc-tic)))"
   ]
  },
  {
   "cell_type": "markdown",
   "metadata": {},
   "source": [
    "Now let's perform the same calculation, but using built-in function of the numpy package `np.dot()`:"
   ]
  },
  {
   "cell_type": "code",
   "execution_count": null,
   "metadata": {},
   "outputs": [],
   "source": [
    "c = 0\n",
    "tic=time.time()\n",
    "c = np.dot(a,b) \n",
    "toc=time.time()\n",
    "print('c = ',c)\n",
    "print('For loop: %2.2f ms' % (1000*(toc-tic)))"
   ]
  },
  {
   "cell_type": "markdown",
   "metadata": {},
   "source": [
    "### Summary:\n",
    "\n",
    "- Python is a user-friendly computer language, with more intuitive coding style.\n",
    "- The Jupyter notebook is very comfortable platform for code development and practice.\n",
    "- It is much more efficient to use already existing modules\n",
    "\n",
    "In the next session, we will practice a few data analysis tasks, where the computation time plays an important role. "
   ]
  }
 ],
 "metadata": {
  "kernelspec": {
   "display_name": "Python 3",
   "language": "python",
   "name": "python3"
  },
  "language_info": {
   "codemirror_mode": {
    "name": "ipython",
    "version": 3
   },
   "file_extension": ".py",
   "mimetype": "text/x-python",
   "name": "python",
   "nbconvert_exporter": "python",
   "pygments_lexer": "ipython3",
   "version": "3.6.7"
  },
  "varInspector": {
   "cols": {
    "lenName": 16,
    "lenType": 16,
    "lenVar": 40
   },
   "kernels_config": {
    "python": {
     "delete_cmd_postfix": "",
     "delete_cmd_prefix": "del ",
     "library": "var_list.py",
     "varRefreshCmd": "print(var_dic_list())"
    },
    "r": {
     "delete_cmd_postfix": ") ",
     "delete_cmd_prefix": "rm(",
     "library": "var_list.r",
     "varRefreshCmd": "cat(var_dic_list()) "
    }
   },
   "types_to_exclude": [
    "module",
    "function",
    "builtin_function_or_method",
    "instance",
    "_Feature"
   ],
   "window_display": false
  }
 },
 "nbformat": 4,
 "nbformat_minor": 2
}
